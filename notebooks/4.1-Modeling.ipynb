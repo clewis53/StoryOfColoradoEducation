{
 "cells": [
  {
   "cell_type": "markdown",
   "id": "f283637b-a60c-47db-8990-c7ee58c57e35",
   "metadata": {},
   "source": [
    "# 4.1 Modeling"
   ]
  },
  {
   "cell_type": "code",
   "execution_count": null,
   "id": "6c3658cd-088e-4c70-b688-0d847f5c98eb",
   "metadata": {},
   "outputs": [],
   "source": []
  }
 ],
 "metadata": {
  "kernelspec": {
   "display_name": "Python 3 (ipykernel)",
   "language": "python",
   "name": "python3"
  },
  "language_info": {
   "codemirror_mode": {
    "name": "ipython",
    "version": 3
   },
   "file_extension": ".py",
   "mimetype": "text/x-python",
   "name": "python",
   "nbconvert_exporter": "python",
   "pygments_lexer": "ipython3",
   "version": "3.9.13"
  }
 },
 "nbformat": 4,
 "nbformat_minor": 5
}
