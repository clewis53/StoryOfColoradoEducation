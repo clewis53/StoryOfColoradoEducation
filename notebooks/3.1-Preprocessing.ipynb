{
 "cells": [
  {
   "cell_type": "markdown",
   "id": "ad0be723-888f-407a-bdd3-5ef11b082cd5",
   "metadata": {},
   "source": [
    "# 3.1 Preprocessing\n",
    "Builds upon 3.0 Preprocessing by implementing updated code, and adding a preprocessor for a LLC KMeans Model"
   ]
  },
  {
   "cell_type": "code",
   "execution_count": null,
   "id": "ea43cd35-7aaf-403f-b2fc-77eb58a3021c",
   "metadata": {},
   "outputs": [],
   "source": []
  }
 ],
 "metadata": {
  "kernelspec": {
   "display_name": "Python 3 (ipykernel)",
   "language": "python",
   "name": "python3"
  },
  "language_info": {
   "codemirror_mode": {
    "name": "ipython",
    "version": 3
   },
   "file_extension": ".py",
   "mimetype": "text/x-python",
   "name": "python",
   "nbconvert_exporter": "python",
   "pygments_lexer": "ipython3",
   "version": "3.9.13"
  }
 },
 "nbformat": 4,
 "nbformat_minor": 5
}
